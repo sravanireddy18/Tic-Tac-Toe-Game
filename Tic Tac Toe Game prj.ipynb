{
 "cells": [
  {
   "cell_type": "code",
   "execution_count": null,
   "id": "db1c7d96-de69-4f17-a262-c5bb3073a85f",
   "metadata": {},
   "outputs": [],
   "source": [
    "def print_board(board):\n",
    "    for row in board:\n",
    "        print(\" | \".join(row))\n",
    "        print(\"-\" * 5)\n",
    "\n",
    "def check_winner(board, player):\n",
    "    # Check rows, columns, and diagonals\n",
    "    return any(\n",
    "        all(cell == player for cell in row) for row in board\n",
    "    ) or any(\n",
    "        all(row[i] == player for row in board) for i in range(3)\n",
    "    ) or (\n",
    "        all(board[i][i] == player for i in range(3)) or\n",
    "        all(board[i][2 - i] == player for i in range(3))\n",
    "    )\n",
    "\n",
    "def tic_tac_toe():\n",
    "    board = [[\" \" for _ in range(3)] for _ in range(3)]\n",
    "    players = [\"X\", \"O\"]\n",
    "    print(\"Welcome to Tic Tac Toe!\")\n",
    "    print_board(board)\n",
    "\n",
    "    for turn in range(9):  # Maximum 9 moves\n",
    "        player = players[turn % 2]\n",
    "        print(f\"Player {player}'s turn.\")\n",
    "        try:\n",
    "            row, col = map(int, input(\"Enter row and column (0-2, space-separated): \").split())\n",
    "            if board[row][col] != \" \":\n",
    "                print(\"Cell already taken, try again.\")\n",
    "                continue\n",
    "        except (ValueError, IndexError):\n",
    "            print(\"Invalid input, try again.\")\n",
    "            continue\n",
    "\n",
    "        board[row][col] = player\n",
    "        print_board(board)\n",
    "\n",
    "        if check_winner(board, player):\n",
    "            print(f\"Player {player} wins! 🎉\")\n",
    "            return\n",
    "\n",
    "    print(\"It's a draw!\")\n",
    "\n",
    "if __name__ == \"__main__\":\n",
    "    tic_tac_toe()\n"
   ]
  }
 ],
 "metadata": {
  "kernelspec": {
   "display_name": "Python 3 (ipykernel)",
   "language": "python",
   "name": "python3"
  },
  "language_info": {
   "codemirror_mode": {
    "name": "ipython",
    "version": 3
   },
   "file_extension": ".py",
   "mimetype": "text/x-python",
   "name": "python",
   "nbconvert_exporter": "python",
   "pygments_lexer": "ipython3",
   "version": "3.12.7"
  }
 },
 "nbformat": 4,
 "nbformat_minor": 5
}
